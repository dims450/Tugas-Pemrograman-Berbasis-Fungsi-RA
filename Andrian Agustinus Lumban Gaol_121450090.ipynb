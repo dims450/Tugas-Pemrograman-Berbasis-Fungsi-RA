{
 "cells": [
  {
   "cell_type": "markdown",
   "metadata": {},
   "source": [
    "# 1. Jelaskan menggunakan tabel mengenai kelebihan dan kekuranganparadigma procedural dibandingkan dengan object oriented (minimal 3) !\n",
    "\n",
    "|kelebihan|kekurangan|\n",
    "| --------------|----------------|\n",
    "|Cocok untuk program sederhana|Kurang cocok untuk program kompleks|\n",
    "|Lebih mudah dipahami dibandingkan Object Oriented|kurang aman|\n",
    "|menggunakan memori yang lebih sedikit|fungsi sulit untuk diubah/dimodifikasi|"
   ]
  },
  {
   "cell_type": "markdown",
   "metadata": {},
   "source": [
    "# 2. Jelaskan menggunakan tabel mengenai kelebihan dan kekurangan paradigma object oriented dibandingkan dengan functional (minimal 3) !\n",
    "\n",
    "|kelebihan|kekurangan|\n",
    "| --------------|----------------|\n",
    "|Cocok untuk program kompleks|pemakaian momori yang lebih besar|\n",
    "|algoritma lebih jelas dairipada fungsional|program lebih kompleks dan banyak|\n",
    "|reusability(dapat digunakan kembali|sulit dipahami|"
   ]
  },
  {
   "cell_type": "markdown",
   "metadata": {},
   "source": [
    "# 3. Jelaskan menggunakan tabel mengenai kelebihan dan kekurangan paradigma procedural dibandingkan dengan functional (minimal 3) !\n",
    "\n",
    "|kelebihan|kekurangan|\n",
    "| --------------|----------------|\n",
    "|mudah dipahami|Memiliki algoritma pemecahan masalah yanag sederhan|\n",
    "|Memiliki algoritma pemecahan masalah yanag sederhan|Mungkin dapat bekerja dengan baik pada saat terisolasi tapi tidak pada saat terintegrasi dengan sistem lain.|\n",
    "|Data bersifat mutable|fungsi sulit untuk diubah/dimodifikasi|"
   ]
  },
  {
   "cell_type": "markdown",
   "metadata": {},
   "source": [
    "# 4. Apa yang dimaksud dengan pure functional programming language?\n",
    "\n",
    "Pure functional programming language adalah di mana pada fungsinya menerima parameter sebagai input dan mengembalikan nilai, tanpa mengubah nilai dari variabel manapun"
   ]
  },
  {
   "cell_type": "markdown",
   "metadata": {},
   "source": [
    "# 5. Dari bahasa pemrograman FP di slide sebelumnya ( slide 14 ) , manakah yang termasuk pure functional programming language?\n",
    "\n",
    "Lisp, Haskell"
   ]
  },
  {
   "cell_type": "markdown",
   "metadata": {},
   "source": [
    "# 6. Membuat program Simple Password encryption, dengan ketentuan\n",
    "### 1. Input password bertipe string dengan batasan panjang password 100 karakter\n",
    "### 2. Setiap karakter dari string tersebut diubah menjadi ASCII value\n",
    "### 3. Kemudian setiap ASCII value tersebut dikembangkan menjadi 3 value dengan dilakukan operasi berikut:\n",
    "#### 1. Value pertama dibagi dengan integer 26 kemudian dibulatkan dan dijumlahkan dengan 80 kemudian diubah kembali menjadi karakter\n",
    "#### 2. Value kedua dihitung sisa bagi dengan 26 kemudian dijumlahkan dengan 80 kemudian diubah kembali menjadi karakter\n",
    "#### 3. Value ketiga adalah karakter ‘+’ jika value pertama lebih besar dari value kedua, atau value ketiga adalah karakter ‘-’ jika value pertama tidak lebih besar dari value kedua\n",
    "### 4. Deretkan value pertama, kedua dan ketiga untuk setiap karakter dalam password tersebut sehingga didapatkan password dalam bentuk baru\n"
   ]
  },
  {
   "cell_type": "code",
   "execution_count": 67,
   "metadata": {},
   "outputs": [
    {
     "name": "stdout",
     "output_type": "stream",
     "text": [
      "T[-Tc-TQ+TV-T[-Tf-Tc-T\\-Tc-Rh-Rf-Rh-Rg-\n"
     ]
    }
   ],
   "source": [
    "def enkripsi(pas):\n",
    "    if len(pas) > 100:\n",
    "        return \"Kalimat melibihi batas\"\n",
    "\n",
    "    enkripsi_password = \"\"\n",
    "    for char in pas:\n",
    "        ascii_value = ord(char) # ord() mengubah teks menjadi menghasilkan kode ASCII (dalam bentuk integer)\n",
    "        value_1 = chr(round((ascii_value / 26)) + 80) #chr() menghasilkan sebuah karakter dari kode ASCII, round() unutk pembulatan\n",
    "        value_2 = chr((ascii_value % 26) + 80)\n",
    "        if value_1 > value_2:\n",
    "            value_3 = '+'; \n",
    "        else:\n",
    "            value_3 = '-'\n",
    "        enkripsi_password += value_1 + value_2 + value_3\n",
    "    print(enkripsi_password)\n",
    "\n",
    "password = input(\"Enter Password: \") #contoh \"sainsdata2021\"\n",
    "enkripsi(password)"
   ]
  }
 ],
 "metadata": {
  "kernelspec": {
   "display_name": "Python 3 (ipykernel)",
   "language": "python",
   "name": "python3"
  },
  "language_info": {
   "codemirror_mode": {
    "name": "ipython",
    "version": 3
   },
   "file_extension": ".py",
   "mimetype": "text/x-python",
   "name": "python",
   "nbconvert_exporter": "python",
   "pygments_lexer": "ipython3",
   "version": "3.11.1"
  },
  "vscode": {
   "interpreter": {
    "hash": "cb97bb86866129f4bff6c6897ead3d9c814039ecc2c6c1b52c4893c1f6cf0748"
   }
  }
 },
 "nbformat": 4,
 "nbformat_minor": 2
}
