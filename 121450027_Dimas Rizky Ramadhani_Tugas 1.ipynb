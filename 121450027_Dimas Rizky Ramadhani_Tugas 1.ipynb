{
 "cells": [
  {
   "cell_type": "markdown",
   "id": "2bad8eea",
   "metadata": {},
   "source": [
    "### 1. Jelaskan menggunakan tabel mengenai kelebihan dan kekurangan paradigma procedural dibandingkan dengan object oriented (minimal 3) !\n"
   ]
  },
  {
   "cell_type": "markdown",
   "id": "abf45a27",
   "metadata": {},
   "source": [
    "| Kelebihan | Kekurangan |\n",
    "| ----------|------------|\n",
    "|Mudah dipahami oleh programmer pemula |Prosedural kurang aman dibandingkan dengan OOP|\n",
    "|Cocok untuk project atau aplikasi yang sederhana|Prosedural tidak memiliki access modifiers seperti pada OOP|\n",
    "|Eksekusi waktu bisa lebih cepat dibanding OPP|Tidak ada proses sederhana untuk menambahkan data di prosedural, tanpa merevisi seluruh program|\n",
    "|Karena flow step-by-step akan mudah dibaca, bila scope kode masih terbilang kecil |Fungsi-fungsi yang walau sudah dibuat modular, bisa jadi tidak bisa digunakan kembali (tidak reusable)|\n"
   ]
  },
  {
   "cell_type": "markdown",
   "id": "ee0b899d",
   "metadata": {},
   "source": [
    "### 2. Jelaskan menggunakan tabel mengenai kelebihan dan kekurangan paradigma object oriented dibandingkan dengan functional (minimal 3) !\n",
    "\n",
    "|Kelebihan|Kekurangan|\n",
    "| --------|----------|\n",
    "|Menawarkan kemudahan manajemen kode karena gaya coding modularnya|Desain dan arsitektur OOP pertama kali bisa jadi rumit, harus benar , dan bisa berpengaruh untuk development kedepannya|\n",
    "|Nalar kode menjadi lebih mudah, karena menganalogikan objek dunia nyata|Runtime program OOP lebih lambat|\n",
    "|pengolahan data/objek lebih mudah untuk dipahami.|program lebih kompleks dan banyak|"
   ]
  },
  {
   "cell_type": "markdown",
   "id": "79e4fd49",
   "metadata": {},
   "source": [
    "### 3. Jelaskan menggunakan tabel mengenai kelebihan dan kekurangan paradigma procedural dibandingkan dengan functional (minimal 3) !\n",
    "\n",
    "|Kelebihan|Kekurangan|\n",
    "| --------|----------|\n",
    "|Pengimplementasian algoritma lebih mudah|Fungsi - fungsi bisa jadi tidak bisa digunakan kembali|\n",
    "|Kode dapat digunakan kembali di berbagai bagian program, tanpa perlu menyalinnya|fungsi sulit dalam modifikasinya|\n",
    "|Karena flow step-by-step akan mudah dibaca, bila scope kode masih terbilang kecil|Kode bisa jadi menjadi tidak readable untuk menyelesaikan permasalahan yang kompleks|"
   ]
  },
  {
   "cell_type": "markdown",
   "id": "db9d74d9",
   "metadata": {},
   "source": [
    "### 4. Apa yang dimaksud dengan pure functional programming language?"
   ]
  },
  {
   "cell_type": "markdown",
   "id": "24045eab",
   "metadata": {},
   "source": [
    "pure functional programming language adalah hanya mengenal expression dan equation. disebut 'murni' karena bahasa ini tidak memperbolehkan adanya efek samping (Efek samping adalah sesuatu yang mempengaruhi \"bagian\" di program. Misalnya suatu fungsi yang mencetak sesuatu ke layar yang mempengaruhi nilai dari variabel global. Tentu saja, suatu bahasa pemrograman yang tanpa efek samping akan menjadi sangat tidak berguna."
   ]
  },
  {
   "cell_type": "markdown",
   "id": "2d14d4cc",
   "metadata": {},
   "source": [
    "### 5. Dari bahasa pemrograman FP di slide sebelumnya ( slide 14 ) , manakah yang termasuk pure functional programming language?\n"
   ]
  },
  {
   "cell_type": "markdown",
   "id": "28645bd7",
   "metadata": {},
   "source": [
    "- Lisp \n",
    "- Haskell\n",
    "- javasript"
   ]
  },
  {
   "cell_type": "markdown",
   "id": "05519bd2",
   "metadata": {},
   "source": [
    "### 6. Membuat program Simple Password encryption, dengan ketentuan\n",
    "##### 1. Input password bertipe string dengan batasan panjang password 100 karakter\n",
    "##### 2. Setiap karakter dari string tersebut diubah menjadi ASCII value\n",
    "##### 3. Kemudian setiap ASCII value tersebut dikembangkan menjadi 3 value dengan dilakukan operasi berikut:\n",
    "- Value pertama dibagi dengan integer 26 kemudian dibulatkan dan dijumlahkan dengan 80 kemudian diubah kembali menjadi karakter\n",
    "- Value kedua dihitung sisa bagi dengan 26 kemudian dijumlahkan dengan 80 kemudian diubah kembali menjadi karakter\n",
    "- Value ketiga adalah karakter ‘+’ jika value pertama lebih besar dari value kedua, atau value ketiga adalah karakter ‘-’ jika value pertama tidak lebih besar dari value kedua\n",
    "- Deretkan value pertama, kedua dan ketiga untuk setiap karakter dalam password tersebut sehingga didapatkan password dalam bentuk baru"
   ]
  },
  {
   "cell_type": "code",
   "execution_count": 2,
   "id": "98f37a96",
   "metadata": {},
   "outputs": [],
   "source": [
    "def enkripsi(pas):\n",
    "    if len(pas) > 100:\n",
    "        return \"kata inputan terlalu panjang\"\n",
    "\n",
    "    enkripsi_password = \"\"\n",
    "    for char in pas:\n",
    "        ascii_value = ord(char)\n",
    "        first_value = chr(round((ascii_value / 26)) + 80) \n",
    "        second_value = chr((ascii_value % 26) + 80)\n",
    "        if first_value > second_value:\n",
    "            third_value = '+'; \n",
    "        else:\n",
    "            third_value = '-'\n",
    "        enkripsi_password += first_value + second_value + third_value\n",
    "    print(enkripsi_password)"
   ]
  },
  {
   "cell_type": "code",
   "execution_count": 3,
   "id": "8f061f64",
   "metadata": {},
   "outputs": [
    {
     "name": "stdout",
     "output_type": "stream",
     "text": [
      "Input Password: dimas rizky ramadhani\n",
      "Tf-TQ+TU-Tc-T[-QV-TZ-TQ+Ub-TS+Ua-QV-TZ-Tc-TU-Tc-Tf-TP+Tc-TV-TQ+\n"
     ]
    }
   ],
   "source": [
    "password = input(\"Input Password: \")\n",
    "enkripsi(password)"
   ]
  }
 ],
 "metadata": {
  "kernelspec": {
   "display_name": "Python 3 (ipykernel)",
   "language": "python",
   "name": "python3"
  },
  "language_info": {
   "codemirror_mode": {
    "name": "ipython",
    "version": 3
   },
   "file_extension": ".py",
   "mimetype": "text/x-python",
   "name": "python",
   "nbconvert_exporter": "python",
   "pygments_lexer": "ipython3",
   "version": "3.11.1"
  }
 },
 "nbformat": 4,
 "nbformat_minor": 5
}
